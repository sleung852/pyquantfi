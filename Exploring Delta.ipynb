{
 "cells": [
  {
   "cell_type": "code",
   "execution_count": 25,
   "metadata": {},
   "outputs": [],
   "source": [
    "import numpy as np\n",
    "import matplotlib.pyplot as plt\n",
    "\n",
    "from blackscholes import EuropeanOptionPricer"
   ]
  },
  {
   "cell_type": "markdown",
   "metadata": {},
   "source": [
    "# Part I: Delta: Closed Form Method vs Monte Carlo Method"
   ]
  },
  {
   "cell_type": "markdown",
   "metadata": {},
   "source": [
    "### Calculate Delta with Closed Form Formula"
   ]
  },
  {
   "cell_type": "code",
   "execution_count": 2,
   "metadata": {},
   "outputs": [],
   "source": [
    "# define parameters\n",
    "# example AAPL @ 3 May 5:06pm HKT\n",
    "S_params = {\n",
    "    'S': 131.46, # yahoo finance\n",
    "    'sigma': 0.1879, # alpha query - Historical Volatility (0.1879)\n",
    "    'r': 0.0025, # Fed rate \n",
    "    'T': 5/252, # yahoo finance\n",
    "    'K': 120 # yahoo finance\n",
    "}\n",
    "\n",
    "V_mkt = 11.29 # last call price from yahoo finance\n",
    "h = 1 # self-calculated"
   ]
  },
  {
   "cell_type": "code",
   "execution_count": 3,
   "metadata": {},
   "outputs": [
    {
     "name": "stdout",
     "output_type": "stream",
     "text": [
      "Call value(S): 11.466190970008569\n"
     ]
    }
   ],
   "source": [
    "eop = EuropeanOptionPricer(**S_params)\n",
    "V = eop.get_call_premium()\n",
    "print('Call value(S):',V)"
   ]
  },
  {
   "cell_type": "markdown",
   "metadata": {},
   "source": [
    "$$\\frac{\\partial V(S)}{\\partial S} \\approx \\frac{V(S+h)-V(S)}{h}$$ "
   ]
  },
  {
   "cell_type": "code",
   "execution_count": 4,
   "metadata": {},
   "outputs": [],
   "source": [
    "Sh_params = S_params\n",
    "Sh_params['S'] += h"
   ]
  },
  {
   "cell_type": "code",
   "execution_count": 5,
   "metadata": {},
   "outputs": [
    {
     "name": "stdout",
     "output_type": "stream",
     "text": [
      "Call value(S+h): 11.466190970008569\n"
     ]
    }
   ],
   "source": [
    "eop = EuropeanOptionPricer(**Sh_params)\n",
    "Vh = eop.get_call_premium()\n",
    "print('Call value(S+h):',V)"
   ]
  },
  {
   "cell_type": "code",
   "execution_count": 6,
   "metadata": {},
   "outputs": [
    {
     "name": "stdout",
     "output_type": "stream",
     "text": [
      "Delta is 0.9998361981468094\n"
     ]
    }
   ],
   "source": [
    "delta1 = (Vh - V)/h\n",
    "print('Delta is', delta1)"
   ]
  },
  {
   "cell_type": "markdown",
   "metadata": {},
   "source": [
    "### What if h is smaller"
   ]
  },
  {
   "cell_type": "code",
   "execution_count": 7,
   "metadata": {},
   "outputs": [],
   "source": [
    "# now if h is small~~\n",
    "h = 0.00001 # self-calculated"
   ]
  },
  {
   "cell_type": "code",
   "execution_count": 8,
   "metadata": {},
   "outputs": [
    {
     "name": "stdout",
     "output_type": "stream",
     "text": [
      "Call value(S): 12.466027168155378\n"
     ]
    }
   ],
   "source": [
    "eop = EuropeanOptionPricer(**S_params)\n",
    "V = eop.get_call_premium()\n",
    "print('Call value(S):',V)"
   ]
  },
  {
   "cell_type": "markdown",
   "metadata": {},
   "source": [
    "$$\\frac{\\partial V(S)}{\\partial S} \\approx \\frac{V(S+h)-V(S)}{h}$$ "
   ]
  },
  {
   "cell_type": "code",
   "execution_count": 9,
   "metadata": {},
   "outputs": [],
   "source": [
    "Sh_params = S_params\n",
    "Sh_params['S'] += h"
   ]
  },
  {
   "cell_type": "code",
   "execution_count": 10,
   "metadata": {},
   "outputs": [
    {
     "name": "stdout",
     "output_type": "stream",
     "text": [
      "Call value(S+h): 12.466027168155378\n"
     ]
    }
   ],
   "source": [
    "eop = EuropeanOptionPricer(**Sh_params)\n",
    "Vh = eop.get_call_premium()\n",
    "print('Call value(S+h):',V)"
   ]
  },
  {
   "cell_type": "code",
   "execution_count": 11,
   "metadata": {},
   "outputs": [
    {
     "name": "stdout",
     "output_type": "stream",
     "text": [
      "Delta is 0.9999107263070072\n"
     ]
    }
   ],
   "source": [
    "delta3 = (Vh - V)/h\n",
    "print('Delta is', delta3)"
   ]
  },
  {
   "cell_type": "markdown",
   "metadata": {},
   "source": [
    "### Calculate Delta with Monte Carlo\n",
    "Require special dependency for Quasi number generator"
   ]
  },
  {
   "cell_type": "code",
   "execution_count": 12,
   "metadata": {},
   "outputs": [],
   "source": [
    "from montecarlo import MonteCarloSimulator"
   ]
  },
  {
   "cell_type": "code",
   "execution_count": 13,
   "metadata": {},
   "outputs": [],
   "source": [
    "# define parameters\n",
    "# example AAPL @ 3 May 5:06pm HKT\n",
    "\n",
    "K = 65\n",
    "h = 1\n",
    "\n",
    "S_params = {\n",
    "    'S': 131.46, # yahoo finance\n",
    "    'sigma': 0.3, # alpha query - Historical Volatility (0.1879)\n",
    "    'r': 0.0025, # Fed rate \n",
    "    'T': 5/252, # yahoo finance\n",
    "    'n': 50,\n",
    "    'm': 1e4\n",
    "}"
   ]
  },
  {
   "cell_type": "markdown",
   "metadata": {},
   "source": [
    "$$\\Delta \\approx e^{-rT} \\frac{\\mathbb{E}(Y(S+h) - \\mathbb{E}(Y(S))}{h}$$ "
   ]
  },
  {
   "cell_type": "code",
   "execution_count": 14,
   "metadata": {},
   "outputs": [],
   "source": [
    "msc = MonteCarloSimulator(**S_params)\n",
    "S_paths = msc.run_simulation(rand_type='quasi')\n",
    "STs = S_paths[:,-1]\n",
    "STs[(STs-K)<0] = 0\n",
    "expected_call = STs.mean()"
   ]
  },
  {
   "cell_type": "code",
   "execution_count": 15,
   "metadata": {},
   "outputs": [],
   "source": [
    "# delta params\n",
    "Sh_params = S_params\n",
    "Sh_params['S'] += h\n",
    "msc = MonteCarloSimulator(**Sh_params)\n",
    "S_paths = msc.run_simulation(rand_type='quasi')\n",
    "STs = S_paths[:,-1]\n",
    "STs[(STs-K)<0] = 0\n",
    "expected_call_h = STs.mean()"
   ]
  },
  {
   "cell_type": "code",
   "execution_count": 16,
   "metadata": {},
   "outputs": [
    {
     "name": "stdout",
     "output_type": "stream",
     "text": [
      "Delta is 0.9997514568703255\n"
     ]
    }
   ],
   "source": [
    "delta2 = np.exp(-S_params['r']*S_params['T']) * (expected_call_h - expected_call)/h \n",
    "print('Delta is', delta2)"
   ]
  },
  {
   "cell_type": "markdown",
   "metadata": {},
   "source": [
    "### Conclusion"
   ]
  },
  {
   "cell_type": "code",
   "execution_count": 18,
   "metadata": {},
   "outputs": [
    {
     "name": "stdout",
     "output_type": "stream",
     "text": [
      "% difference between the the first two methods is -0.01%\n"
     ]
    }
   ],
   "source": [
    "diff = delta2/delta1-1\n",
    "print('% difference between the the first two methods is {:.2f}%'.format(diff*100))"
   ]
  },
  {
   "cell_type": "markdown",
   "metadata": {},
   "source": [
    "### European Closed Form Delta = N(d1)"
   ]
  },
  {
   "cell_type": "code",
   "execution_count": 17,
   "metadata": {},
   "outputs": [
    {
     "name": "stdout",
     "output_type": "stream",
     "text": [
      "Delta is 0.999910727692077\n"
     ]
    }
   ],
   "source": [
    "print('Delta is', eop.get_call_delta())"
   ]
  },
  {
   "cell_type": "markdown",
   "metadata": {},
   "source": [
    "# Part II: Exploring Delta Hedging"
   ]
  },
  {
   "cell_type": "markdown",
   "metadata": {},
   "source": [
    "## Stop Loss Hedging\n",
    "\n",
    "Essentially:\n",
    "1. Own stock when in-the-money\n",
    "2. Do not own stock when out-of-the-money"
   ]
  },
  {
   "cell_type": "code",
   "execution_count": 19,
   "metadata": {},
   "outputs": [],
   "source": [
    "Szero = 49\n",
    "sigma = 0.30\n",
    "r = 0.04\n",
    "mu = 0.13\n",
    "T = 0.25\n",
    "K = 50\n",
    "Dt = 1e-2\n",
    "N = int(T/Dt)\n",
    "t = np.arange(0,T,Dt)\n",
    "M = 1000"
   ]
  },
  {
   "cell_type": "code",
   "execution_count": 20,
   "metadata": {},
   "outputs": [],
   "source": [
    "asset = np.zeros(N) # No. of shares\n",
    "cash = np.zeros(N) # Cash/Zero-coupon Bond\n",
    "portfolio = np.zeros(N) # Value of Asset + Cash\n",
    "\n",
    "S = np.zeros(N) # Stock price path\n",
    "V = np.zeros(N) # Option price path"
   ]
  },
  {
   "cell_type": "code",
   "execution_count": 21,
   "metadata": {},
   "outputs": [],
   "source": [
    "stopLossHedging = np.zeros(M)\n",
    "options = np.zeros(M)"
   ]
  },
  {
   "cell_type": "code",
   "execution_count": 22,
   "metadata": {},
   "outputs": [],
   "source": [
    "# set up values at t=0\n",
    "eop = EuropeanOptionPricer(S=Szero, K=K, r=r, sigma=sigma, T=T-t[0])\n",
    "C = eop.get_call_premium()\n",
    "\n",
    "# check whether C is approx 2.7, same as value provided in lecture 8\n",
    "np.testing.assert_approx_equal(C,2.7,5)\n",
    "\n",
    "S[0] = Szero\n",
    "if S[0] >= K:\n",
    "    # buy stock if S > K\n",
    "    asset[0] = 1\n",
    "else:\n",
    "    # sell stock if K > S\n",
    "    asset[0] = 0\n",
    "cash[1] = C - asset[0] * S[0]\n",
    "portfolio[0] = C"
   ]
  },
  {
   "cell_type": "code",
   "execution_count": 23,
   "metadata": {},
   "outputs": [],
   "source": [
    "# for each simulation path\n",
    "for j in range(M):\n",
    "    # for each time period\n",
    "    for i in range(1, N):\n",
    "        # get next stock price\n",
    "        S[i] = S[i-1]*np.exp((mu-0.5*sigma**2)*Dt + sigma*np.sqrt(Dt)*np.random.standard_normal())\n",
    "        eop = EuropeanOptionPricer(S=S[i], K=K, r=r, sigma=sigma, T=T-t[i])\n",
    "        # get call option price\n",
    "        V[i] = eop.get_call_premium()\n",
    "        # stop loss hedging\n",
    "        portfolio[i] = asset[i-1]*S[i] + cash[i-1]*(1+r*Dt)\n",
    "        if S[i] >= K:\n",
    "            asset[i] = 1\n",
    "        else:\n",
    "            asset[i] = 0\n",
    "        cash[i] = portfolio[i] - asset[i]*S[i]\n",
    "    options[j] = V[-1]\n",
    "    stopLossHedging[j] = portfolio[-1]"
   ]
  },
  {
   "cell_type": "code",
   "execution_count": 24,
   "metadata": {},
   "outputs": [
    {
     "data": {
      "image/png": "[encoded data removed]",
      "text/plain": [
       "<Figure size 432x288 with 1 Axes>"
      ]
     },
     "metadata": {
      "needs_background": "light"
     },
     "output_type": "display_data"
    },
    {
     "name": "stdout",
     "output_type": "stream",
     "text": [
      "mean_error: -2.6940258613109744\n",
      "std_dev: 2.2818286662654925\n",
      "max_error: -0.4121971950454819\n",
      "min_error: -4.975854527576467\n"
     ]
    }
   ],
   "source": [
    "stopLossError = stopLossHedging - options\n",
    "meanStopLossError = stopLossError.mean()\n",
    "stdStopLossError = stopLossError.std()\n",
    "\n",
    "plt.hist(stopLossError, 100)\n",
    "plt.title('Stop Loss Hedging Error')\n",
    "plt.show()\n",
    "\n",
    "print('mean_error:',meanStopLossError)\n",
    "print('std_dev:', stdStopLossError)\n",
    "print('max_error:', meanStopLossError+stdStopLossError)\n",
    "print('min_error:', meanStopLossError-stdStopLossError)"
   ]
  },
  {
   "cell_type": "markdown",
   "metadata": {},
   "source": [
    "## Delta Hedging using Black Scholes Closed Form"
   ]
  },
  {
   "cell_type": "code",
   "execution_count": 30,
   "metadata": {},
   "outputs": [],
   "source": [
    "def get_C_and_Cdelta(S, K, r, sigma, T, h=1):\n",
    "    \"\"\"\n",
    "    This obtains the Cdelta using the first estimation method above.\n",
    "    \"\"\"\n",
    "    eop = EuropeanOptionPricer(S=S, K=K, r=r, sigma=sigma, T=T)\n",
    "    C = eop.get_call_premium()\n",
    "    eop = EuropeanOptionPricer(S=S+h, K=K, r=r, sigma=sigma, T=T)\n",
    "    Ch = eop.get_call_premium()\n",
    "    Cdelta = (C - Ch) / h # closed form\n",
    "#     Cdelta = eop.get_call_delta()\n",
    "    return C, Cdelta"
   ]
  },
  {
   "cell_type": "code",
   "execution_count": 31,
   "metadata": {},
   "outputs": [
    {
     "name": "stdout",
     "output_type": "stream",
     "text": [
      "2.700049921567583 -0.5296916672603125\n"
     ]
    }
   ],
   "source": [
    "# setup placeholders for \n",
    "deltaHedging = np.zeros(M)\n",
    "options = np.zeros(M)\n",
    "\n",
    "asset = np.zeros(N) # No. of shares\n",
    "cash = np.zeros(N) # Cash/Zero-coupon Bond\n",
    "portfolio = np.zeros(N) # Value of Asset + Cash\n",
    "\n",
    "S = np.zeros(N) # Stock price path\n",
    "V = np.zeros(N) # Option price path\n",
    "\n",
    "C, Cdelta = get_C_and_Cdelta(S=Szero, K=K, r=r, sigma=sigma, T=T-t[0], h=1)\n",
    "print(C, Cdelta)\n",
    "\n",
    "V[0] = C\n",
    "S[0] = Szero\n",
    "\n",
    "asset[0] = Cdelta\n",
    "cash[0] = C - asset[0] * S[0]\n",
    "portfolio[0] = C"
   ]
  },
  {
   "cell_type": "code",
   "execution_count": 32,
   "metadata": {},
   "outputs": [],
   "source": [
    "# for each simulation path\n",
    "for j in range(M):\n",
    "    # for each time period\n",
    "    for i in range(1, N):\n",
    "        # get next stock price\n",
    "        S[i] = S[i-1]*np.exp((mu-0.5*sigma**2)*Dt + sigma*np.sqrt(Dt)*np.random.standard_normal())\n",
    "        portfolio[i] = asset[i-1]*S[i] + cash[i-1]*(1+r*Dt)\n",
    "        C, Cdelta = get_C_and_Cdelta(S=S[i], K=K, r=r, sigma=sigma, T=T-t[i], h=1)\n",
    "        asset[i] = Cdelta\n",
    "        cash[i] = portfolio[i] - asset[i]*S[i]\n",
    "        V[i] = C\n",
    "    options[j] = V[-1]\n",
    "    deltaHedging[j] = portfolio[-1]"
   ]
  },
  {
   "cell_type": "code",
   "execution_count": 33,
   "metadata": {},
   "outputs": [
    {
     "data": {
      "image/png": "[encoded data removed]",
      "text/plain": [
       "<Figure size 432x288 with 1 Axes>"
      ]
     },
     "metadata": {
      "needs_background": "light"
     },
     "output_type": "display_data"
    },
    {
     "name": "stdout",
     "output_type": "stream",
     "text": [
      "mean_error: -1.019065147946272\n",
      "std_dev: 9.545091282972413\n",
      "max_error: 8.526026135026141\n",
      "min_error: -10.564156430918684\n"
     ]
    }
   ],
   "source": [
    "deltaError = deltaHedging - options\n",
    "meanDeltaError = deltaError.mean()\n",
    "stdDeltaError = deltaError.std()\n",
    "\n",
    "plt.hist(deltaError, 100)\n",
    "plt.title('Delta Hedging Error')\n",
    "plt.show()\n",
    "\n",
    "print('mean_error:',meanDeltaError)\n",
    "print('std_dev:', stdDeltaError)\n",
    "print('max_error:', meanDeltaError+stdDeltaError)\n",
    "print('min_error:', meanDeltaError-stdDeltaError)"
   ]
  },
  {
   "cell_type": "markdown",
   "metadata": {},
   "source": [
    "## Delta Hedging using Black Scholes Estimation Form"
   ]
  },
  {
   "cell_type": "code",
   "execution_count": 34,
   "metadata": {},
   "outputs": [],
   "source": [
    "def get_C_and_Cdelta(S, K, r, sigma, T, h=1):\n",
    "    \"\"\"\n",
    "    This obtains the Cdelta using the first estimation method above.\n",
    "    \"\"\"\n",
    "    eop = EuropeanOptionPricer(S=S, K=K, r=r, sigma=sigma, T=T)\n",
    "    C = eop.get_call_premium()\n",
    "#     eop = EuropeanOptionPricer(S=S+h, K=K, r=r, sigma=sigma, T=T)\n",
    "#     Ch = eop.get_call_premium()\n",
    "#     Cdelta = (C - Ch) / h # closed form\n",
    "    Cdelta = eop.get_call_delta()\n",
    "    return C, Cdelta"
   ]
  },
  {
   "cell_type": "code",
   "execution_count": 35,
   "metadata": {},
   "outputs": [
    {
     "name": "stdout",
     "output_type": "stream",
     "text": [
      "2.700049921567583 0.5027853729098978\n"
     ]
    }
   ],
   "source": [
    "# setup placeholders for \n",
    "deltaHedging = np.zeros(M)\n",
    "options = np.zeros(M)\n",
    "\n",
    "asset = np.zeros(N) # No. of shares\n",
    "cash = np.zeros(N) # Cash/Zero-coupon Bond\n",
    "portfolio = np.zeros(N) # Value of Asset + Cash\n",
    "\n",
    "S = np.zeros(N) # Stock price path\n",
    "V = np.zeros(N) # Option price path\n",
    "\n",
    "C, Cdelta = get_C_and_Cdelta(S=Szero, K=K, r=r, sigma=sigma, T=T-t[0], h=1)\n",
    "print(C, Cdelta)\n",
    "\n",
    "V[0] = C\n",
    "S[0] = Szero\n",
    "\n",
    "asset[0] = Cdelta\n",
    "cash[0] = C - asset[0] * S[0]\n",
    "portfolio[0] = C"
   ]
  },
  {
   "cell_type": "code",
   "execution_count": 36,
   "metadata": {},
   "outputs": [],
   "source": [
    "# for each simulation path\n",
    "for j in range(M):\n",
    "    # for each time period\n",
    "    for i in range(1, N):\n",
    "        # get next stock price\n",
    "        S[i] = S[i-1]*np.exp((mu-0.5*sigma**2)*Dt + sigma*np.sqrt(Dt)*np.random.standard_normal())\n",
    "        portfolio[i] = asset[i-1]*S[i] + cash[i-1]*(1+r*Dt)\n",
    "        C, Cdelta = get_C_and_Cdelta(S=S[i], K=K, r=r, sigma=sigma, T=T-t[i], h=1)\n",
    "        asset[i] = Cdelta\n",
    "        cash[i] = portfolio[i] - asset[i]*S[i]\n",
    "        V[i] = C\n",
    "    options[j] = V[-1]\n",
    "    deltaHedging[j] = portfolio[-1]"
   ]
  },
  {
   "cell_type": "code",
   "execution_count": 37,
   "metadata": {},
   "outputs": [
    {
     "data": {
      "image/png": "[encoded data removed]",
      "text/plain": [
       "<Figure size 432x288 with 1 Axes>"
      ]
     },
     "metadata": {
      "needs_background": "light"
     },
     "output_type": "display_data"
    },
    {
     "name": "stdout",
     "output_type": "stream",
     "text": [
      "mean_error: -0.007042197498256544\n",
      "std_dev: 0.4705900800396679\n",
      "max_error: 0.4635478825414114\n",
      "min_error: -0.4776322775379244\n"
     ]
    }
   ],
   "source": [
    "deltaError = deltaHedging - options\n",
    "meanDeltaError = deltaError.mean()\n",
    "stdDeltaError = deltaError.std()\n",
    "\n",
    "plt.hist(deltaError, 100)\n",
    "plt.title('Delta Hedging Error')\n",
    "plt.show()\n",
    "\n",
    "print('mean_error:',meanDeltaError)\n",
    "print('std_dev:', stdDeltaError)\n",
    "print('max_error:', meanDeltaError+stdDeltaError)\n",
    "print('min_error:', meanDeltaError-stdDeltaError)"
   ]
  },
  {
   "cell_type": "markdown",
   "metadata": {},
   "source": [
    "### Comparison (Stop Loss vs Closed Form Delta)"
   ]
  },
  {
   "cell_type": "code",
   "execution_count": 29,
   "metadata": {
    "scrolled": true
   },
   "outputs": [
    {
     "data": {
      "image/png": "[encoded data removed]",
      "text/plain": [
       "<Figure size 432x288 with 1 Axes>"
      ]
     },
     "metadata": {
      "needs_background": "light"
     },
     "output_type": "display_data"
    }
   ],
   "source": [
    "plt.hist(deltaError, 50, color='r', alpha=0.5)\n",
    "plt.hist(stopLossError, 50, color='b', alpha=0.5)\n",
    "plt.show() # quite a rubbish comparison but it shows something..."
   ]
  },
  {
   "cell_type": "markdown",
   "metadata": {},
   "source": [
    "# Part III: Dynamic Hedging"
   ]
  },
  {
   "cell_type": "code",
   "execution_count": null,
   "metadata": {},
   "outputs": [],
   "source": []
  }
 ],
 "metadata": {
  "kernelspec": {
   "display_name": "option_app",
   "language": "python",
   "name": "option_app"
  },
  "language_info": {
   "codemirror_mode": {
    "name": "ipython",
    "version": 3
   },
   "file_extension": ".py",
   "mimetype": "text/x-python",
   "name": "python",
   "nbconvert_exporter": "python",
   "pygments_lexer": "ipython3",
   "version": "3.7.10"
  }
 },
 "nbformat": 4,
 "nbformat_minor": 4
}
