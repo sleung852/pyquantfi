{
 "cells": [
  {
   "cell_type": "code",
   "execution_count": 2,
   "metadata": {},
   "outputs": [],
   "source": [
    "import numpy as np\n",
    "import pandas as pd \n",
    "import math\n",
    "from scipy import stats\n",
    "import warnings\n",
    "warnings.filterwarnings('ignore')"
   ]
  },
  {
   "cell_type": "markdown",
   "metadata": {},
   "source": [
    "# Q 3.1"
   ]
  },
  {
   "cell_type": "code",
   "execution_count": 3,
   "metadata": {},
   "outputs": [],
   "source": [
    "# For Question 3\n",
    "class BlackScholesExtendedModel:\n",
    "    \n",
    "    def store_values(self, S, K, deltaT, sigma, r, q):\n",
    "        self.S = S\n",
    "        self.K = K\n",
    "        self.deltaT = deltaT\n",
    "        self.sigma = sigma\n",
    "        self.r = r\n",
    "        self.q = q\n",
    "        \n",
    "    def vanila_european_price(self, S, K, deltaT, sigma, r, q, kind='C'):\n",
    "        self.store_values(S, K, deltaT, sigma, r, q)\n",
    "        assert kind in ['C', 'P'], \"Incorrect kind. Can only be 'call' or 'put'\"\n",
    "        if kind == 'C':\n",
    "            return self.call_price()\n",
    "        return self.put_price()\n",
    "        \n",
    "    def call_price(self):\n",
    "        c = self.S * math.exp(-self.q * self.deltaT) * self._Nd1() - self.K * math.exp(-self.r * self.deltaT) * self._Nd2()\n",
    "        return c\n",
    "\n",
    "    def put_price(self):\n",
    "        p = self.K * math.exp(-self.r * self.deltaT) * self._Nd2(-1) - self.S * math.exp(-self.q * self.deltaT) * self._Nd1(-1)\n",
    "        return p\n",
    "    \n",
    "    def _Nd1(self, sign=1):\n",
    "        assert abs(1) == 1, \"Incorrect input for sign\"\n",
    "        d1 = self._d1()\n",
    "        return stats.norm.cdf(d1 * sign)\n",
    "    \n",
    "    def _d1(self):\n",
    "        return (math.log(self.S/self.K) + (self.r - self.q)*(self.deltaT)) / (self.sigma*math.sqrt(self.deltaT)) + 0.5 * self.sigma * math.sqrt(self.deltaT)\n",
    "\n",
    "    def _Nd2(self, sign=1):\n",
    "        assert abs(1) == 1, \"Incorrect input for sign\"\n",
    "        d2 = self._d2()\n",
    "        return stats.norm.cdf(d2 * sign)\n",
    "    \n",
    "    def _d2(self):\n",
    "        return (math.log(self.S/self.K) + (self.r - self.q)*(self.deltaT)) / (self.sigma*math.sqrt(self.deltaT)) - 0.5 * self.sigma * math.sqrt(self.deltaT)\n",
    "\n",
    "    def vega(self):\n",
    "        return self.S * math.exp(-self.q * self.deltaT) * math.sqrt(self.deltaT) * self.Nd1_first_derivative()\n",
    "    \n",
    "    def newtons_method(self, option_mkt_price, S, K, deltaT, r, q, kind = 'C', tol = 1e-8, epoch=100):\n",
    "        sigma_hat = math.sqrt(2*abs((math.log(S / K) + (r - q)*deltaT)/deltaT))\n",
    "        sigma_diff = 1\n",
    "        n = 1\n",
    "        sigma = sigma_hat\n",
    "        while (sigma_diff >= tol and n < epoch):\n",
    "            option_price = self.vanila_european_price(S, K, deltaT, sigma, r, q, kind=kind)\n",
    "            Cvega = self.vega()\n",
    "            increment = (option_price-option_mkt_price)/Cvega\n",
    "            sigma -= increment\n",
    "            n += 1\n",
    "            sigmadiff = abs(increment)\n",
    "            \n",
    "        return sigma\n",
    "            \n",
    "    def Nd1_first_derivative(self):\n",
    "        \"\"\"\n",
    "        For calculating N'(d1)\n",
    "        \"\"\"\n",
    "        d1 = self._d1()\n",
    "        return 1/((2 * math.pi)**0.5) * math.exp(-(d1**2)/2)"
   ]
  },
  {
   "cell_type": "code",
   "execution_count": 4,
   "metadata": {},
   "outputs": [
    {
     "name": "stdout",
     "output_type": "stream",
     "text": [
      "Test 1: Vanila Option Pricing\n",
      "Expected Answer:   0.48413599739115154\n",
      "Calculated Answer: 0.48413599739115154\n",
      "Test 1 passed\n",
      "\n",
      "Test 2: Newtons Method for Implied Volatility\n",
      "Expected Answer:   0.3\n",
      "Calculated Answer: 0.30000000000000004\n",
      "Test 2 passed\n"
     ]
    }
   ],
   "source": [
    "def test_blackscholesextendedmodel():\n",
    "    bs_test = BlackScholesExtendedModel()\n",
    "    OPTION_VALUE = 0.48413599739115154\n",
    "    SIGMA = 0.3\n",
    "    \n",
    "    max_delta = 1e-4\n",
    "    \n",
    "    print('Test 1: Vanila Option Pricing')\n",
    "    print('Expected Answer:  ', OPTION_VALUE) # from lecture 4 slide 21\n",
    "    derived_option_value = bs_test.vanila_european_price(2, 2, 3, SIGMA, 0.03, 0)\n",
    "    print('Calculated Answer:', derived_option_value)\n",
    "    assert (derived_option_value - OPTION_VALUE) < max_delta, \"Test 1 Failed\"\n",
    "    print('Test 1 passed')\n",
    "    \n",
    "    print('\\nTest 2: Newtons Method for Implied Volatility')\n",
    "    print('Expected Answer:  ', SIGMA) # from lecture 4 slide 22\n",
    "    derived_sigma = bs_test.newtons_method(OPTION_VALUE, 2, 2, 3, 0.03, 0, 'C')\n",
    "    print('Calculated Answer:', derived_sigma) \n",
    "    assert (derived_sigma - SIGMA) < max_delta, \"Test 1 Failed\"\n",
    "    print('Test 2 passed')\n",
    "    \n",
    "test_blackscholesextendedmodel()"
   ]
  },
  {
   "cell_type": "markdown",
   "metadata": {},
   "source": [
    "# Q3.2"
   ]
  },
  {
   "cell_type": "markdown",
   "metadata": {},
   "source": [
    "## Q3.2.1"
   ]
  },
  {
   "cell_type": "code",
   "execution_count": 33,
   "metadata": {},
   "outputs": [],
   "source": [
    "# read data\n",
    "marketdata = pd.read_csv('data/marketdata.csv')\n",
    "instruments = pd.read_csv('data/instruments.csv')\n",
    "\n",
    "# set time\n",
    "marketdata['LocalTime'] = pd.to_datetime(marketdata['LocalTime'])\n",
    "\n",
    "df = pd.merge(marketdata, instruments, on ='Symbol', how ='left') \n",
    "\n",
    "df_option = df[df['Type']=='Option']\n",
    "df_underlying = df[df['Type']=='Equity']\n",
    "\n",
    "# clean up a bit\n",
    "df_option.sort_values('LocalTime', inplace=True)\n",
    "df_underlying.sort_values('LocalTime', inplace=True)\n",
    "df_option.set_index('LocalTime', inplace=True)\n",
    "df_underlying.set_index('LocalTime', inplace=True)\n",
    "\n",
    "# calculate the latest_average_price for the underlying\n",
    "df_underlying['AvgPrice'] = (df_underlying['Bid1'] + df_underlying['Ask1']) / 2\n",
    "\n",
    "# create output to hold results\n",
    "timeperiods = ['2016-02-16 09:31:00', '2016-02-16 09:32:00', '2016-02-16 09:33:00']\n",
    "default_columns = ['Strike', 'BidVolP', 'AskVolP', 'BidVolC','AskVolC']\n",
    "\n",
    "output = {key: {col: [] for col in default_columns} for key in timeperiods}"
   ]
  },
  {
   "cell_type": "code",
   "execution_count": 34,
   "metadata": {},
   "outputs": [],
   "source": [
    "# iterate to calculate each \n",
    "\n",
    "for timeperiod in output.keys():\n",
    "    \n",
    "    output[timeperiod]['Strike'] = instruments['Strike'].unique()[:-1]\n",
    "    \n",
    "    # obtain the underlying price\n",
    "    latest_underlying_price = df_underlying[df_underlying.index < timeperiod].iloc[-1,-1]\n",
    "    \n",
    "    for strike in output[timeperiod]['Strike']:\n",
    "        for option_type in ['P', 'C']:\n",
    "            bs = BlackScholesExtendedModel()\n",
    "            for price_type in ['Bid', 'Ask']:\n",
    "                # obtain latest option price for option_type and price_type\n",
    "                df_temp = df_option[(df_option.index < timeperiod) & (df_option['Strike'] == strike) & (df_option['OptionType'] == option_type)]\n",
    "                if df_temp.shape[0] == 0:\n",
    "                    output[timeperiod]['{}Vol{}'.format(price_type, option_type)].append(np.nan)\n",
    "                    print('Not found!')\n",
    "                    continue\n",
    "                mkt_option_price = (df_temp.loc[:,'{}1'.format(price_type)]).iloc[-1]\n",
    "                bs = BlackScholesExtendedModel()\n",
    "                implied_volatility = bs.newtons_method(option_mkt_price = mkt_option_price,\n",
    "                                                       S = latest_underlying_price,\n",
    "                                                       K = strike,\n",
    "                                                       deltaT = (24-16)/365,\n",
    "                                                       r = 0.04,\n",
    "                                                       q = 0.2,\n",
    "                                                       kind = option_type)\n",
    "                output[timeperiod]['{}Vol{}'.format(price_type, option_type)].append(implied_volatility)"
   ]
  },
  {
   "cell_type": "code",
   "execution_count": 35,
   "metadata": {},
   "outputs": [
    {
     "name": "stdout",
     "output_type": "stream",
     "text": [
      "All files are exported\n"
     ]
    }
   ],
   "source": [
    "for timeperiod in timeperiods:\n",
    "    output_df = pd.DataFrame(data=output[timeperiod])\n",
    "    output_df.sort_values('Strike', inplace=True)\n",
    "    output_df.to_csv('{}.csv'.format(timeperiod.split(':')[-2]), index=False)\n",
    "print('All files are exported')"
   ]
  },
  {
   "cell_type": "markdown",
   "metadata": {},
   "source": [
    "## Q3.2.2"
   ]
  },
  {
   "cell_type": "code",
   "execution_count": 36,
   "metadata": {},
   "outputs": [],
   "source": [
    "import matplotlib.pyplot as plt"
   ]
  },
  {
   "cell_type": "code",
   "execution_count": 37,
   "metadata": {},
   "outputs": [],
   "source": [
    "%matplotlib inline"
   ]
  },
  {
   "cell_type": "code",
   "execution_count": 38,
   "metadata": {},
   "outputs": [],
   "source": [
    "output_df = pd.DataFrame(data=output[timeperiods[0]])\n",
    "output_df.set_index('Strike', inplace=True)"
   ]
  },
  {
   "cell_type": "code",
   "execution_count": 39,
   "metadata": {},
   "outputs": [
    {
     "name": "stdout",
     "output_type": "stream",
     "text": [
      "********2016-02-16 09:31:00*********\n",
      "    Strike   BidVolP   AskVolP   BidVolC   AskVolC\n",
      "16    1.80  0.356860  0.378679  0.370531  0.388385\n",
      "14    1.85  0.348424  0.358947  0.316950  0.450279\n",
      "15    1.90  0.350194  0.363214  0.342132  0.360234\n",
      "13    1.95  0.354596  0.360680  0.359442  0.362049\n",
      "12    2.00  0.323593  0.374495  0.365143  0.380292\n",
      "11    2.05  0.350417  0.393393  0.372021  0.380778\n",
      "9     2.10       NaN  0.485571  0.394150  0.423771\n",
      "10    2.15       NaN  0.554275  0.393748  0.409328\n",
      "7     2.20       NaN  0.646090  0.407389  0.428683\n",
      "8     2.25       NaN  1.616020  0.431009  0.456318\n",
      "5     2.30       NaN  1.729668  0.463100  0.497575\n",
      "6     2.35       NaN  1.834657  0.498459  0.529528\n",
      "0     2.40  4.121529  1.154006  0.524354  0.565896\n",
      "1     2.45       NaN  2.029010  0.533358  0.614804\n",
      "2     2.50  5.142279  2.044295  0.575715  0.662235\n",
      "3     2.55       NaN  2.131968  0.658597  0.708299\n",
      "4     2.60       NaN  2.217490  0.657026  0.730261\n",
      "\n",
      "********2016-02-16 09:32:00*********\n",
      "    Strike   BidVolP   AskVolP   BidVolC   AskVolC\n",
      "16    1.80  0.350455  0.375069  0.420111  0.467525\n",
      "14    1.85  0.345549  0.347056  0.344588  0.394160\n",
      "15    1.90  0.339273  0.354263  0.341207  0.370013\n",
      "13    1.95  0.351382  0.362684  0.359631  0.375281\n",
      "12    2.00  0.341508  0.361834  0.371469  0.383853\n",
      "11    2.05  0.340240  0.372265  0.371767  0.383190\n",
      "9     2.10  0.300947  0.414051  0.398184  0.421249\n",
      "10    2.15       NaN  0.523711  0.390340  0.412784\n",
      "7     2.20       NaN  0.612554  0.410344  0.426768\n",
      "8     2.25       NaN  1.602734  0.433716  0.451396\n",
      "5     2.30  4.676883  1.715858  0.465659  0.500286\n",
      "6     2.35       NaN  0.918865  0.500920  0.532114\n",
      "0     2.40  2.472653  1.124903  0.526704  0.568399\n",
      "1     2.45       NaN  2.014838  0.572751  0.617286\n",
      "2     2.50  3.265093  2.028044  0.617450  0.664698\n",
      "3     2.55  3.080927  2.059219  0.660897  0.710745\n",
      "4     2.60       NaN  2.200450  0.703173  0.732629\n",
      "\n",
      "********2016-02-16 09:33:00*********\n",
      "    Strike   BidVolP   AskVolP   BidVolC   AskVolC\n",
      "16    1.80  0.353912  0.365383  0.378398  0.434327\n",
      "14    1.85  0.351464  0.357463  0.362559  0.421332\n",
      "15    1.90  0.339075  0.353209  0.357233  0.371182\n",
      "13    1.95  0.356335  0.358942  0.351620  0.373348\n",
      "12    2.00  0.342037  0.355479  0.367043  0.385943\n",
      "11    2.05  0.332739  0.372400  0.373282  0.382016\n",
      "9     2.10  0.303802  0.391816  0.399617  0.411950\n",
      "10    2.15       NaN  0.544185  0.393748  0.406336\n",
      "7     2.20       NaN  0.646090  0.407389  0.423723\n",
      "8     2.25       NaN  1.622819  0.431009  0.448602\n",
      "5     2.30       NaN  1.729668  0.463100  0.497575\n",
      "6     2.35       NaN  0.872285  0.498459  0.529528\n",
      "0     2.40  4.121529  1.154006  0.524354  0.565896\n",
      "1     2.45       NaN  2.030054  0.570420  0.614804\n",
      "2     2.50  5.142279  2.044295  0.615136  0.662235\n",
      "3     2.55       NaN  2.076393  0.658597  0.708299\n",
      "4     2.60       NaN  2.217490  0.700886  0.730261\n",
      "\n"
     ]
    }
   ],
   "source": [
    "for i in range(3):\n",
    "    output_df = pd.DataFrame(data=output[timeperiods[i]])\n",
    "    output_df.sort_values('Strike', inplace=True)\n",
    "    print('********{}*********'.format(timeperiods[i]))\n",
    "    print(output_df)\n",
    "    print()"
   ]
  },
  {
   "cell_type": "code",
   "execution_count": 12,
   "metadata": {},
   "outputs": [],
   "source": [
    "def plot_graph():\n",
    "    for i in range(3):\n",
    "        df = pd.DataFrame(data=output[timeperiods[i]])\n",
    "        plot_cols = df.columns[1:]\n",
    "        for col in plot_cols:\n",
    "            plt.scatter(x = df['Strike'], y = df[col], alpha=0.7)\n",
    "\n",
    "        plt.legend(plot_cols)\n",
    "        plt.xlabel('Strike Price')\n",
    "        plt.ylabel('Volatility')\n",
    "        plt.title(timeperiods[i])\n",
    "\n",
    "        plt.show()"
   ]
  },
  {
   "cell_type": "code",
   "execution_count": 13,
   "metadata": {},
   "outputs": [
    {
     "data": {
      "image/png": "[encoded data removed]",
      "text/plain": [
       "<Figure size 432x288 with 1 Axes>"
      ]
     },
     "metadata": {
      "needs_background": "light"
     },
     "output_type": "display_data"
    },
    {
     "data": {
      "image/png": "[encoded data removed]",
      "text/plain": [
       "<Figure size 432x288 with 1 Axes>"
      ]
     },
     "metadata": {
      "needs_background": "light"
     },
     "output_type": "display_data"
    },
    {
     "data": {
      "image/png": "[encoded data removed]",
      "text/plain": [
       "<Figure size 432x288 with 1 Axes>"
      ]
     },
     "metadata": {
      "needs_background": "light"
     },
     "output_type": "display_data"
    }
   ],
   "source": [
    "plot_graph()"
   ]
  },
  {
   "cell_type": "markdown",
   "metadata": {},
   "source": [
    "# 3.3\n",
    "Aim: Identify an arbitrage opportunities for the data provided\n"
   ]
  },
  {
   "cell_type": "markdown",
   "metadata": {},
   "source": [
    "Step 1: Create Data"
   ]
  },
  {
   "cell_type": "code",
   "execution_count": 57,
   "metadata": {},
   "outputs": [],
   "source": [
    "import math"
   ]
  },
  {
   "cell_type": "code",
   "execution_count": 69,
   "metadata": {},
   "outputs": [],
   "source": [
    "# read data\n",
    "marketdata = pd.read_csv('data/marketdata.csv')\n",
    "instruments = pd.read_csv('data/instruments.csv')\n",
    "\n",
    "# set time\n",
    "marketdata['LocalTime'] = pd.to_datetime(marketdata['LocalTime'])\n",
    "\n",
    "df = pd.merge(marketdata, instruments, on ='Symbol', how ='left') \n",
    "\n",
    "df_option = df[df['Type']=='Option']\n",
    "df_underlying = df[df['Type']=='Equity']\n",
    "\n",
    "# clean up a bit\n",
    "df_option.sort_values('LocalTime', inplace=True)\n",
    "df_underlying.sort_values('LocalTime', inplace=True)\n",
    "df_option.set_index('LocalTime', inplace=True)\n",
    "df_underlying.set_index('LocalTime', inplace=True)\n",
    "\n",
    "# calculate the latest_average_price for the underlying\n",
    "df_underlying['AvgPrice'] = (df_underlying['Bid1'] + df_underlying['Ask1']) / 2\n",
    "\n",
    "# create output to hold results\n",
    "timeperiods = ['2016-02-16 09:31:00', '2016-02-16 09:32:00', '2016-02-16 09:33:00']\n",
    "default_columns = ['Strike', 'BidP', 'AskP', 'BidC','AskC', 'BidS', 'AskS', 'AvgS']\n",
    "\n",
    "output2 = {key: {col: [] for col in default_columns} for key in timeperiods}"
   ]
  },
  {
   "cell_type": "code",
   "execution_count": 74,
   "metadata": {
    "scrolled": false
   },
   "outputs": [],
   "source": [
    "# iterate to calculate each \n",
    "\n",
    "for timeperiod in output.keys():\n",
    "    \n",
    "    output2[timeperiod]['Strike'] = instruments['Strike'].unique()[:-1]\n",
    "    \n",
    "    # obtain the underlying price\n",
    "    output2[timeperiod]['AvgS'] = df_underlying[df_underlying.index < timeperiod].iloc[-1,-1]\n",
    "    output2[timeperiod]['BidS'] = df_underlying[df_underlying.index < timeperiod].iloc[-1]['Bid1']\n",
    "    output2[timeperiod]['AskS'] = df_underlying[df_underlying.index < timeperiod].iloc[-1]['Ask1']\n",
    "    \n",
    "    for strike in output[timeperiod]['Strike']:\n",
    "        for option_type in ['P', 'C']:\n",
    "            bs = BlackScholesExtendedModel()\n",
    "            for price_type in ['Bid', 'Ask']:\n",
    "                # obtain latest option price for option_type and price_type\n",
    "                df_temp = df_option[(df_option.index < timeperiod) & (df_option['Strike'] == strike) & (df_option['OptionType'] == option_type)]\n",
    "                if df_temp.shape[0] == 0:\n",
    "                    output[timeperiod]['{}Vol{}'.format(price_type, option_type)].append(np.nan)\n",
    "                    continue\n",
    "                mkt_option_price = (df_temp.loc[:,'{}1'.format(price_type)]).iloc[-1]\n",
    "                output2[timeperiod]['{}{}'.format(price_type, option_type)].append(mkt_option_price)"
   ]
  },
  {
   "cell_type": "code",
   "execution_count": 120,
   "metadata": {},
   "outputs": [
    {
     "data": {
      "text/html": [
       "<div>\n",
       "<style scoped>\n",
       "    .dataframe tbody tr th:only-of-type {\n",
       "        vertical-align: middle;\n",
       "    }\n",
       "\n",
       "    .dataframe tbody tr th {\n",
       "        vertical-align: top;\n",
       "    }\n",
       "\n",
       "    .dataframe thead th {\n",
       "        text-align: right;\n",
       "    }\n",
       "</style>\n",
       "<table border=\"1\" class=\"dataframe\">\n",
       "  <thead>\n",
       "    <tr style=\"text-align: right;\">\n",
       "      <th></th>\n",
       "      <th>Strike</th>\n",
       "      <th>BidP</th>\n",
       "      <th>AskP</th>\n",
       "      <th>BidC</th>\n",
       "      <th>AskC</th>\n",
       "      <th>BidS</th>\n",
       "      <th>AskS</th>\n",
       "      <th>AvgS</th>\n",
       "    </tr>\n",
       "  </thead>\n",
       "  <tbody>\n",
       "    <tr>\n",
       "      <th>0</th>\n",
       "      <td>2.40</td>\n",
       "      <td>0.3912</td>\n",
       "      <td>0.4682</td>\n",
       "      <td>0.0002</td>\n",
       "      <td>0.0004</td>\n",
       "      <td>1.958</td>\n",
       "      <td>1.959</td>\n",
       "      <td>1.9585</td>\n",
       "    </tr>\n",
       "    <tr>\n",
       "      <th>1</th>\n",
       "      <td>2.45</td>\n",
       "      <td>0.4803</td>\n",
       "      <td>0.5824</td>\n",
       "      <td>0.0001</td>\n",
       "      <td>0.0004</td>\n",
       "      <td>1.958</td>\n",
       "      <td>1.959</td>\n",
       "      <td>1.9585</td>\n",
       "    </tr>\n",
       "    <tr>\n",
       "      <th>2</th>\n",
       "      <td>2.50</td>\n",
       "      <td>0.4828</td>\n",
       "      <td>0.6251</td>\n",
       "      <td>0.0001</td>\n",
       "      <td>0.0004</td>\n",
       "      <td>1.958</td>\n",
       "      <td>1.959</td>\n",
       "      <td>1.9585</td>\n",
       "    </tr>\n",
       "    <tr>\n",
       "      <th>3</th>\n",
       "      <td>2.55</td>\n",
       "      <td>0.5330</td>\n",
       "      <td>0.6750</td>\n",
       "      <td>0.0002</td>\n",
       "      <td>0.0004</td>\n",
       "      <td>1.958</td>\n",
       "      <td>1.959</td>\n",
       "      <td>1.9585</td>\n",
       "    </tr>\n",
       "    <tr>\n",
       "      <th>4</th>\n",
       "      <td>2.60</td>\n",
       "      <td>0.5827</td>\n",
       "      <td>0.7250</td>\n",
       "      <td>0.0001</td>\n",
       "      <td>0.0003</td>\n",
       "      <td>1.958</td>\n",
       "      <td>1.959</td>\n",
       "      <td>1.9585</td>\n",
       "    </tr>\n",
       "  </tbody>\n",
       "</table>\n",
       "</div>"
      ],
      "text/plain": [
       "   Strike    BidP    AskP    BidC    AskC   BidS   AskS    AvgS\n",
       "0    2.40  0.3912  0.4682  0.0002  0.0004  1.958  1.959  1.9585\n",
       "1    2.45  0.4803  0.5824  0.0001  0.0004  1.958  1.959  1.9585\n",
       "2    2.50  0.4828  0.6251  0.0001  0.0004  1.958  1.959  1.9585\n",
       "3    2.55  0.5330  0.6750  0.0002  0.0004  1.958  1.959  1.9585\n",
       "4    2.60  0.5827  0.7250  0.0001  0.0003  1.958  1.959  1.9585"
      ]
     },
     "execution_count": 120,
     "metadata": {},
     "output_type": "execute_result"
    }
   ],
   "source": [
    "# simply to take a look at an example\n",
    "output_df = pd.DataFrame(data=output2[timeperiods[0]])\n",
    "output_df.head()"
   ]
  },
  {
   "cell_type": "markdown",
   "metadata": {},
   "source": [
    "Step 2: Identify Arbitrage Opportunities <br>\n",
    "Below's code identifies whether there is any arbitrage opportunities under the situation where there is no commission."
   ]
  },
  {
   "cell_type": "code",
   "execution_count": 126,
   "metadata": {
    "scrolled": false
   },
   "outputs": [
    {
     "name": "stdout",
     "output_type": "stream",
     "text": [
      "******Arbitrage Strat w/o Commission******\n",
      "\n",
      "\n",
      "*** 2016-02-16 09:31:00 ***\n",
      "\n",
      "\n",
      "0 arbitrage opportunities have been found in 2016-02-16 09:31:00\n",
      "\n",
      "\n",
      "*** 2016-02-16 09:32:00 ***\n",
      "\n",
      "*Arbitrage Found @ 2016-02-16 09:32:00 | Conversion @Strike Price $2.0\n",
      "**Sell Qt 10000 Call @ 0.0227: 227\n",
      "**Borrow $20000.0 @ rate 4%: 20000\n",
      "**Buy Qt 10000 Stock @ 1.9569999999999999 with repo rate: 19570\n",
      "**Buy Qt 10000 Put @ 0.07200000000000001: 720\n",
      "**Commision: 0\n",
      "***Immediate Payoff: 5\n",
      "\n",
      "*Arbitrage Found @ 2016-02-16 09:32:00 | Conversion @Strike Price $1.8\n",
      "**Sell Qt 10000 Call @ 0.155: 1550\n",
      "**Borrow $18000.0 @ rate 4%: 18000\n",
      "**Buy Qt 10000 Stock @ 1.9569999999999999 with repo rate: 19570\n",
      "**Buy Qt 10000 Put @ 0.0035: 35\n",
      "**Commision: 0\n",
      "***Immediate Payoff: 15\n",
      "\n",
      "\n",
      "2 arbitrage opportunities have been found in 2016-02-16 09:32:00\n",
      "\n",
      "\n",
      "*** 2016-02-16 09:33:00 ***\n",
      "\n",
      "*Arbitrage Found @ 2016-02-16 09:33:00 | Conversion @Strike Price $2.0\n",
      "**Sell Qt 10000 Call @ 0.0229: 229\n",
      "**Borrow $20000.0 @ rate 4%: 20000\n",
      "**Buy Qt 10000 Stock @ 1.959 with repo rate: 19590\n",
      "**Buy Qt 10000 Put @ 0.07: 700\n",
      "**Commision: 0\n",
      "***Immediate Payoff: 7\n",
      "\n",
      "\n",
      "1 arbitrage opportunities have been found in 2016-02-16 09:33:00\n",
      "\n"
     ]
    }
   ],
   "source": [
    "print(\"******Arbitrage Strat w/o Commission******\")\n",
    "print()\n",
    "trading_units = 10000\n",
    "commission = 0 # per unit\n",
    "\n",
    "\n",
    "for timeperiod in timeperiods:\n",
    "    counter = 0\n",
    "    output_df = pd.DataFrame(data=output2[timeperiod])\n",
    "    print()\n",
    "    print('*** {} ***'.format(timeperiod))\n",
    "    print()\n",
    "    for _, row in output_df.iterrows():\n",
    "        # if C + Ke^(-rt) > P + Se^(-q*t)\n",
    "        # Then execute a conversion:\n",
    "        # Sell a Call & Borrow @ Strike Price @ risk free rate\n",
    "        lhs = (row['Strike'] * math.exp(-0.04 * (24-16)/365) * trading_units + row['BidC']*trading_units)\n",
    "        # Buy a Stock & a Put\n",
    "        rhs = (row['AskP'] * trading_units + row['AskS']*math.exp(-0.2 * (24-16)/365) * trading_units  + commission*trading_units)\n",
    "        if lhs > rhs:\n",
    "            print('*Arbitrage Found @ {} | Conversion @Strike Price ${}'.format(timeperiod, row['Strike']))\n",
    "            print('**Sell Qt {} Call @ {}: {:.0f}'.format(trading_units, row['BidC'], trading_units*row['BidC']))\n",
    "            print('**Borrow ${} @ rate 4%: {:.0f}'.format(row['Strike']*trading_units, row['Strike']*trading_units))\n",
    "            print('**Buy Qt {} Stock @ {} with repo rate: {:.0f}'.format(trading_units, row['AskS'], trading_units*row['AskS']))\n",
    "            print('**Buy Qt {} Put @ {}: {:.0f}'.format(trading_units, row['AskP'], trading_units*row['AskP']))\n",
    "            print('**Commision: {}'.format(-commission*trading_units))\n",
    "            print('***Immediate Payoff: {:.0f}'.format(lhs - rhs))\n",
    "            print()\n",
    "            counter += 1\n",
    "        # if C + Ke^(-rt) < P + Se^(-q*t)\n",
    "        # Then execute a reverse conversion:\n",
    "        # Buy a Call & Buy a T-bill @ Risk-free rate\n",
    "        lhs = (row['Strike'] * math.exp(-0.04 * (24-16)/365)*trading_units + row['AskC']*trading_units + commission*trading_units)\n",
    "        # Sell a Stock & a Put,\n",
    "        rhs = (row['BidP']*trading_units + row['BidS']*trading_units*math.exp(-0.2 * (24-16)/365))\n",
    "        \n",
    "        if lhs < rhs:\n",
    "            print('Arbitrage Found @ {} | Reverse Conversion @Strike Price ${}'.format(timeperiod, row['Strike']))\n",
    "            print('**Buy Qt {} Call @ {}: {:.0f}'.format(trading_units, row['AskC'], -trading_units * row['AskC']))\n",
    "            print('**Buy ${} T-bills @ rate 4%: {:.0f}'.format(row['Strike']*trading_units, -row['Strike']*trading_units))\n",
    "            print('**Buy Qt {} Stock @ {} with repo rate: {:.0f}'.format(trading_units, row['AskS'], trading_units*row['AskS']))\n",
    "            print('**Sell Qt {} Put @ {}: {:.0f}'.format(trading_units, row['BidP'], trading_units* row['BidP']))\n",
    "            print('**Commision: {}'.format(-commission*trading_units))\n",
    "            print('***Immediate Payoff: {:.0f}'.format(rhs - lhs))\n",
    "            print()\n",
    "            counter += 1\n",
    "    print()\n",
    "    print('{} arbitrage opportunities have been found in {}'.format(counter, timeperiod))\n",
    "    print()\n",
    "        "
   ]
  },
  {
   "cell_type": "markdown",
   "metadata": {},
   "source": [
    "Below's code identifies whether there is any arbitrage opportunities under the situation where there is a commission."
   ]
  },
  {
   "cell_type": "code",
   "execution_count": 123,
   "metadata": {
    "scrolled": false
   },
   "outputs": [
    {
     "name": "stdout",
     "output_type": "stream",
     "text": [
      "******Arbitrage Strat w/o Commission******\n",
      "\n",
      "\n",
      "*** 2016-02-16 09:31:00 ***\n",
      "\n",
      "\n",
      "0 arbitrage opportunities have been found in 2016-02-16 09:31:00\n",
      "\n",
      "\n",
      "*** 2016-02-16 09:32:00 ***\n",
      "\n",
      "\n",
      "0 arbitrage opportunities have been found in 2016-02-16 09:32:00\n",
      "\n",
      "\n",
      "*** 2016-02-16 09:33:00 ***\n",
      "\n",
      "\n",
      "0 arbitrage opportunities have been found in 2016-02-16 09:33:00\n",
      "\n"
     ]
    }
   ],
   "source": [
    "print(\"******Arbitrage Strat w/o Commission******\")\n",
    "print()\n",
    "trading_units = 10000\n",
    "commission = 3.3 # per unit\n",
    "\n",
    "\n",
    "for timeperiod in timeperiods:\n",
    "    counter = 0\n",
    "    output_df = pd.DataFrame(data=output2[timeperiod])\n",
    "    print()\n",
    "    print('*** {} ***'.format(timeperiod))\n",
    "    print()\n",
    "    for _, row in output_df.iterrows():\n",
    "        # if C + Ke^(-rt) > P + Se^(-q*t)\n",
    "        # Then execute a conversion:\n",
    "        # Sell a Call & Borrow @ Strike Price @ risk free rate\n",
    "        lhs = (row['Strike'] * math.exp(-0.04 * (24-16)/365) * trading_units + row['BidC']*trading_units)\n",
    "        # Buy a Stock & a Put\n",
    "        rhs = (row['AskP'] * trading_units + row['AskS']*math.exp(-0.2 * (24-16)/365) * trading_units  + commission*trading_units)\n",
    "        if lhs > rhs:\n",
    "            print('*Arbitrage Found @ {} | Conversion @Strike Price ${}'.format(timeperiod, row['Strike']))\n",
    "            print('**Sell Qt {} Call @ {}: {:.0f}'.format(trading_units, row['BidC'], trading_units*row['BidC']))\n",
    "            print('**Borrow ${} @ rate 4%: {:.0f}'.format(row['Strike']*trading_units, row['Strike']*trading_units))\n",
    "            print('**Buy Qt {} Stock @ {} with repo rate: {:.0f}'.format(trading_units, row['AskS'], trading_units*row['AskS']))\n",
    "            print('**Buy Qt {} Put @ {}: {:.0f}'.format(trading_units, row['AskP'], trading_units*row['AskP']))\n",
    "            print('**Commision: {}'.format(-commission*trading_units))\n",
    "            print('***Immediate Payoff: {:.0f}'.format(lhs - rhs))\n",
    "            print()\n",
    "            counter += 1\n",
    "        # if C + Ke^(-rt) < P + Se^(-q*t)\n",
    "        # Then execute a reverse conversion:\n",
    "        # Buy a Call & Buy a T-bill @ Risk-free rate\n",
    "        lhs = (row['Strike'] * math.exp(-0.04 * (24-16)/365)*trading_units + row['AskC']*trading_units + commission*trading_units)\n",
    "        # Sell a Stock & a Put,\n",
    "        rhs = (row['BidP']*trading_units + row['BidS']*trading_units*math.exp(-0.2 * (24-16)/365))\n",
    "        \n",
    "        if lhs < rhs:\n",
    "            print('Arbitrage Found @ {} | Reverse Conversion @Strike Price ${}'.format(timeperiod, row['Strike']))\n",
    "            print('**Buy Qt {} Call @ {}: {:.0f}'.format(trading_units, row['AskC'], -trading_units * row['AskC']))\n",
    "            print('**Buy ${} T-bills @ rate 4%: {:.0f}'.format(row['Strike']*trading_units, -row['Strike']*trading_units))\n",
    "            print('**Buy Qt {} Stock @ {} with repo rate: {:.0f}'.format(trading_units, row['AskS'], trading_units*row['AskS']))\n",
    "            print('**Sell Qt {} Put @ {}: {:.0f}'.format(trading_units, row['BidP'], trading_units* row['BidP']))\n",
    "            print('**Commision: {}'.format(-commission*trading_units))\n",
    "            print('***Immediate Payoff: {:.0f}'.format(rhs - lhs))\n",
    "            print()\n",
    "            counter += 1\n",
    "    print()\n",
    "    print('{} arbitrage opportunities have been found in {}'.format(counter, timeperiod))\n",
    "    print()\n",
    "        "
   ]
  },
  {
   "cell_type": "markdown",
   "metadata": {},
   "source": [
    "Hence the result shows that when there is a commission, 3 arbitrage opportunities were identified. However when commission is taken into account, there are no arbitrage opportunities."
   ]
  },
  {
   "cell_type": "code",
   "execution_count": null,
   "metadata": {},
   "outputs": [],
   "source": []
  }
 ],
 "metadata": {
  "kernelspec": {
   "display_name": "Python 3",
   "language": "python",
   "name": "python3"
  },
  "language_info": {
   "codemirror_mode": {
    "name": "ipython",
    "version": 3
   },
   "file_extension": ".py",
   "mimetype": "text/x-python",
   "name": "python",
   "nbconvert_exporter": "python",
   "pygments_lexer": "ipython3",
   "version": "3.8.5"
  }
 },
 "nbformat": 4,
 "nbformat_minor": 2
}
